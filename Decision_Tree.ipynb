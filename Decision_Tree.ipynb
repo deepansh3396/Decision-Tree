{
  "nbformat": 4,
  "nbformat_minor": 0,
  "metadata": {
    "colab": {
      "provenance": []
    },
    "kernelspec": {
      "name": "python3",
      "display_name": "Python 3"
    },
    "language_info": {
      "name": "python"
    }
  },
  "cells": [
    {
      "cell_type": "code",
      "execution_count": null,
      "metadata": {
        "id": "2unQanlX0dxl"
      },
      "outputs": [],
      "source": []
    },
    {
      "cell_type": "markdown",
      "source": [
        "**Theoretical Questions**\n",
        "\n",
        "\n",
        "Question 1 -: What is a Decision Tree, and how does it work?\n",
        "Answer 1 -: A Decision Tree is a popular machine learning algorithm used for both classification and regression tasks. It's a tree-like structure where each internal node represents a \"test\" or \"decision\" based on a feature (attribute), each branch represents an outcome of that test, and each leaf node represents a class label or continuous value (in regression).\n",
        "\n",
        "\n",
        "How It Works:\n",
        "\n",
        "Splitting: The tree is built by recursively splitting the dataset at each node based on the feature that best separates the data. The algorithm tries to find splits that maximize homogeneity in the resulting subsets (groups that are as similar as possible). For example:\n",
        "\n",
        "For classification: It tries to split the data in a way that most data points in a subset belong to the same class.\n",
        "For regression: It splits the data to minimize the variance within the subsets.\n",
        "\n",
        "Stopping Criteria: The splitting process stops when certain conditions are met, such as:\n",
        "Maximum depth of the tree is reached.\n",
        "No further improvement in the split (e.g., all data in a node are of the same class).\n",
        "A node has fewer than a minimum number of samples to split further.\n",
        "\n",
        "\n",
        "Question 2 -: What are impurity measures in Decision Trees?\n",
        "Answer 2 -: In Decision Trees, impurity measures are used to evaluate how well a feature splits the data at each node. The goal is to find the best possible split at each step in the tree-building process, so the data within each node is as homogenous as possible. Impurity measures quantify how \"impure\" or \"mixed\" the data is in a given node, with the idea that nodes with low impurity are desirable because they represent more homogenous subsets of data.\n",
        "\n",
        "\n",
        "Question 3 -: What is the mathematical formula for Gini Impurity?\n",
        "Answer 3 -: The Gini Impurity is a measure of how often a randomly chosen element from the set would be incorrectly classified. It ranges from 0 (perfectly pure node) to 1 (completely impure node).\n",
        "\n",
        "\n",
        "The formula for Gini impurity is:\n",
        "\n",
        "\n",
        "Gini(D)= 1− i=1∑c iP2\n",
        "\n",
        "\n",
        "Question 4 -: What is the mathematical formula for Entropy?\n",
        "Answer 4 -: The mathematical formula for Entropy is based on information theory, and it measures the uncertainty or disorder in a dataset. In the context of a Decision Tree for classification tasks, entropy quantifies how mixed the classes are in a given node. A lower entropy indicates a more homogeneous node (one class is predominant), while a higher entropy indicates a more diverse distribution of classes.\n",
        "\n",
        "\n",
        "Formula for Entropy:\n",
        "\n",
        "For a dataset D with C classes, the entropy H(D) is calculated as:\n",
        "\n",
        "\n",
        "H(D)=− i=1∑Cpilog2(pi)\n",
        "\n",
        "\n",
        "Where:\n",
        "\n",
        "C is the number of unique classes in the dataset.\n",
        "\n",
        "pi is the proportion of elements in class i within the dataset D.\n",
        "\n",
        "The sum is taken over all possible classes in the dataset.\n",
        "\n",
        "\n",
        "Question 5 -: What is Information Gain, and how is it used in Decision Trees?\n",
        "Answer 5 -: Information Gain (IG) is a measure used in decision trees to evaluate the effectiveness of a particular feature (or attribute) in classifying the dataset. It quantifies how much uncertainty (entropy) is reduced after a split is made based on a specific feature. In simpler terms, Information Gain measures the reduction in entropy caused by partitioning the dataset according to a feature.\n",
        "In decision trees, the feature that provides the highest information gain is chosen for the split at each node. The goal is to select the feature that best separates the data into distinct classes, thereby reducing uncertainty or disorder.\n",
        "\n",
        "\n",
        "How It Works:\n",
        "\n",
        "Calculate the Entropy of the Parent Node: The entropy of the entire dataset before the split (the root node).\n",
        "Split the Data: The data is split based on a particular feature (e.g., \"age\", \"income\", etc.).\n",
        "\n",
        "Calculate the Weighted Average Entropy of the Child Nodes: After the split, calculate the entropy of each child node. This is weighted by the size of each subset to account for how many data points are in each child node.\n",
        "\n",
        "Compute Information Gain: The information gain is the difference between the entropy of the parent node and the weighted average entropy of the child nodes.\n",
        "\n",
        "\n",
        "Question 6 -: What is the difference between Gini Impurity and Entropy?\n",
        "Answer 6 -: Gini Impurity and Entropy are both impurity measures used in Decision Trees to evaluate the quality of a split at each node. Both are used to quantify the \"impurity\" or \"disorder\" of a node in a classification task, with the goal of splitting the data in such a way that the resulting child nodes are as homogeneous (pure) as possible. However, there are key differences between the two in terms of their calculation, interpretation, and behavior.\n",
        "\n",
        "\n",
        "Question 7 -: What is the mathematical explanation behind Decision Trees?\n",
        "Answer 7 -: A Decision Tree is a model used for both classification and regression tasks. It works by recursively splitting the data into subsets based on feature values to predict a target variable. The goal is to build a tree-like structure where each internal node represents a decision based on the value of a feature, and each leaf node represents a class label (in classification) or a continuous value (in regression).\n",
        "\n",
        "\n",
        "Question 8 -: What is Pre-Pruning in Decision Trees?\n",
        "Answer 8 -: Pre-pruning (also known as early stopping) is a technique used to stop the growth of a decision tree before it becomes too complex or overfits the data. It aims to limit the size of the tree by setting conditions or constraints during the tree-building process.\n",
        "\n",
        "Pre-pruning prevents the tree from growing excessively deep and helps in improving the model's generalization by avoiding overfitting.\n",
        "In contrast, post-pruning happens after the tree has been fully grown, where branches or subtrees are removed to reduce complexity.\n",
        "\n",
        "\n",
        "Question 9 -: What is Post-Pruning in Decision Trees?\n",
        "Answer 9 -: Post-pruning (also known as cost-complexity pruning or tree pruning) is a technique used to simplify a fully-grown decision tree by removing unnecessary branches. It is applied after the tree has been completely built (i.e., the tree has grown as deep as possible), and its purpose is to reduce overfitting and improve generalization by eliminating parts of the tree that add complexity without significantly improving the model’s predictive power.\n",
        "\n",
        "Unlike pre-pruning, where the growth of the tree is stopped early, post-pruning allows the tree to grow to its full size and then prunes branches that don’t contribute much to the model’s accuracy.\n",
        "\n",
        "\n",
        "Question 10 -: What is the difference between Pre-Pruning and Post-Pruning?\n",
        "Answer 10 -: Both pre-pruning and post-pruning are techniques used to reduce the complexity of a decision tree and prevent overfitting, but they are applied at different stages in the tree-building process and follow different strategies. Below is a comparison between the two techniques:\n",
        "\n",
        "1. Timing:\n",
        "\n",
        "Pre-Pruning (Early Stopping):\n",
        "Occurs during the tree-building process (before the tree is fully grown).\n",
        "At each step, a decision is made whether to stop further splitting or continue growing the tree. The tree growth is limited based on certain criteria such as depth, minimum samples per split, or minimum impurity decrease.\n",
        "\n",
        "Post-Pruning (Tree Pruning):\n",
        "Occurs after the tree is fully grown (once the tree has reached its maximum depth or complexity).\n",
        "The tree is pruned by removing branches or subtrees that do not significantly contribute to improving accuracy or generalization.\n",
        "\n",
        "2. Approach:\n",
        "\n",
        "Pre-Pruning:\n",
        "Involves setting constraints or thresholds during tree construction that limit how much the tree can grow.\n",
        "Common constraints include:\n",
        "\n",
        "Maximum depth of the tree.\n",
        "\n",
        "Minimum number of samples required to split a node.\n",
        "\n",
        "Minimum impurity decrease or minimum information gain required to make a split.\n",
        "\n",
        "Post-Pruning:\n",
        "Involves growing the tree to its maximum size and then evaluating the performance of subtrees.\n",
        "\n",
        "Subtrees or branches are removed if they do not significantly reduce error or improve the model's predictive performance. This step is done by evaluating on a separate validation dataset.\n",
        "\n",
        "\n",
        "3. Risk of Overfitting:\n",
        "\n",
        "Pre-Pruning:\n",
        "By stopping the tree from growing too deep, it helps prevent overfitting early. However, if pre-pruning is too aggressive (e.g., limiting tree depth too much), it may lead to underfitting, where the model is too simple to capture the patterns in the data.\n",
        "\n",
        "Post-Pruning:\n",
        "Allows the tree to fully grow and then prunes back, so it can find a better balance between bias and variance. While it may still risk overfitting initially, post-pruning typically produces a better generalized model by trimming unnecessary branches after the tree has learned the data.\n",
        "\n",
        "\n",
        "4. Tree Size and Complexity:\n",
        "\n",
        "Pre-Pruning:\n",
        "The tree may be smaller in size, as it is restricted early on based on pre-defined criteria.\n",
        "The tree’s complexity is limited by the pruning parameters set before the tree starts growing (e.g., depth, minimum samples per split).\n",
        "\n",
        "Post-Pruning:\n",
        "The tree is likely larger initially since no constraints are applied during the growth phase.\n",
        "Post-pruning reduces the tree's size and complexity by removing branches after the tree is fully grown.\n",
        "\n",
        "\n",
        "5. Impact on Model Performance:\n",
        "\n",
        "Pre-Pruning:\n",
        "May lead to underfitting if the constraints are too strict (the tree does not capture enough complexity in the data).\n",
        "It is a faster process because pruning happens during the tree's growth, so there is no need to evaluate and test the tree after it is fully grown.\n",
        "\n",
        "Post-Pruning:\n",
        "Can improve generalization by reducing overfitting, especially if the tree has grown too complex.\n",
        "Slower than pre-pruning since it requires the tree to be grown fully and then evaluated and pruned.\n",
        "\n",
        "\n",
        "6. Control Over Tree Complexity:\n",
        "\n",
        "Pre-Pruning:\n",
        "Provides direct control over the complexity of the tree from the beginning, as you specify the limits for tree growth.\n",
        "The model is simpler, but it may miss capturing important patterns in the data if the pruning conditions are too strict.\n",
        "\n",
        "Post-Pruning:\n",
        "The tree can grow to its full potential, capturing all patterns in the data, but complexity is reduced afterward based on performance metrics.\n",
        "The tree can be as complex as necessary during growth, but unnecessary complexity is removed afterward.\n",
        "\n",
        "\n",
        "7. Stopping Criteria:\n",
        "\n",
        "Pre-Pruning:\n",
        "The stopping criteria are set before the tree-building process and are based on predefined limits, such as maximum depth or minimum samples for splitting.\n",
        "\n",
        "Post-Pruning:\n",
        "The stopping criteria are based on evaluating how the pruning of subtrees affects the performance of the tree, usually done using a validation set.\n",
        "\n",
        "\n",
        "Question 11 -: What is a Decision Tree Regressor?\n",
        "Answer 11 -: A Decision Tree Regressor is a type of decision tree algorithm used for regression tasks. Unlike a decision tree classifier (which is used for classification tasks), a decision tree regressor is designed to predict continuous values rather than class labels. It splits the data into subsets based on feature values and makes predictions by averaging the values within each leaf node.\n",
        "\n",
        "\n",
        "Question 12 -: What are the advantages and disadvantages of Decision Trees?\n",
        "Answer 12 -: Advantages of Decision Trees\n",
        "\n",
        "Interpretability and Simplicity:\n",
        "Easy to understand: Decision trees are simple to interpret and visualize. Each decision-making step is based on a clear set of rules, which makes them highly interpretable.\n",
        "\n",
        "Transparent decision process: Since decision trees can be represented as flowcharts, it's easy to understand the model's decision-making process. This is particularly useful in scenarios where model transparency is important.\n",
        "\n",
        "Handles Both Numerical and Categorical Data:\n",
        "Decision trees can handle both numerical and categorical features without needing transformation (e.g., no need for one-hot encoding of categorical variables).\n",
        "This makes them very flexible and suitable for a wide range of datasets.\n",
        "\n",
        "No Need for Feature Scaling:\n",
        "Decision trees do not require features to be scaled or normalized because splits are based on feature values' relative ordering rather than their actual magnitude.\n",
        "This saves preprocessing time and ensures that the model works well without additional transformations.\n",
        "\n",
        "Non-linear Relationships:\n",
        "Decision trees can capture non-linear relationships between features and the target variable. They do not require the relationship between the features and target to be linear, making them useful for complex datasets.\n",
        "\n",
        "Versatility:\n",
        "\n",
        "Classification and regression: Decision trees can be used for both classification tasks (predicting categories) and regression tasks (predicting continuous values).\n",
        "They can also be adapted to work with ensemble methods like Random Forests and Gradient Boosting, which enhance their performance.\n",
        "\n",
        "Ability to Handle Missing Values:\n",
        "Decision trees can handle missing values by splitting based on available features or utilizing surrogate splits when data is missing for a particular feature in a branch.\n",
        "\n",
        "Works Well with Large Datasets:\n",
        "Decision trees can scale well to large datasets, as they are built in a greedy manner, and typically the split calculations at each node are computationally efficient.\n",
        "\n",
        "Disadvantages of Decision Trees\n",
        "\n",
        "Overfitting:\n",
        "Decision trees are prone to overfitting, especially when they grow too deep. In such cases, the tree learns the noise in the data and fails to generalize well to unseen data.\n",
        "The model may become overly complex, with many branches that fit the training data too closely, resulting in poor performance on test data.\n",
        "\n",
        "Instability:\n",
        "Decision trees are unstable because small changes in the data can lead to very different tree structures. This can make the model sensitive to noisy data or small variations in the input.\n",
        "To mitigate this, ensemble methods like Random Forests are often used, which combine many decision trees to reduce this variability.\n",
        "\n",
        "Bias Toward Features with More Categories:\n",
        "Decision trees can be biased toward features with more distinct values or categories (especially categorical features). This is because features with more distinct categories tend to create splits that appear more \"pure,\" even if they don't represent the most meaningful splits.\n",
        "\n",
        "Poor Performance on Extrapolation:\n",
        "Decision trees struggle with predicting values outside the range of the training data. Since they make decisions based on partitions of the feature space, they do not extrapolate well to unseen values outside the observed range of the training data.\n",
        "\n",
        "Greedy Algorithm (Local Optimal):\n",
        "The decision tree building process is greedy; it selects the best split at each step without considering the global structure of the tree. This can lead to suboptimal solutions since it doesn’t always guarantee the globally optimal tree structure.\n",
        "Depth-first search also means that decisions made early on can significantly affect the final tree.\n",
        "\n",
        "Computational Cost with Deep Trees:\n",
        "While shallow trees can be fast, deep trees with many levels can become computationally expensive in terms of both memory usage and training time.\n",
        "This can be a problem, especially in cases with very large datasets or when training many models.\n",
        "\n",
        "Difficulty with Linear Decision Boundaries:\n",
        "For datasets where the decision boundary between classes is linear, decision trees may require an unnecessarily complex structure with multiple splits, resulting in inefficient models.\n",
        "In such cases, models like linear regression or SVMs might perform better.\n",
        "\n",
        "\n",
        "Question 13 -: How does a Decision Tree handle missing values?\n",
        "Answer 13 -: Handling missing values in a decision tree is important because real-world datasets often contain incomplete information. Decision trees have mechanisms to deal with missing data in a way that minimizes its impact on model accuracy. There are several strategies decision trees use to handle missing values, which are generally implemented at the time of splitting or making predictions\n",
        "\n",
        "\n",
        "Question 14 -: How does a Decision Tree handle categorical features?\n",
        "Answer 14 -: Decision trees handle categorical features by:\n",
        "Directly splitting on categorical values, either creating binary splits for binary features or multi-way splits for multi-class features.\n",
        "Using standard splitting criteria such as Gini impurity, entropy, or variance reduction to choose the best splits.\n",
        "Applying techniques like surrogate splits and imputation when categorical feature values are missing.\n",
        "Optionally using one-hot encoding in certain implementations, although traditional decision tree algorithms handle categorical variables directly without the need for encoding.\n",
        "This flexibility makes decision trees powerful and interpretable models for handling both categorical and numerical data.\n",
        "\n",
        "\n",
        "Question 15 -: What are some real-world applications of Decision Trees?\n",
        "Answer 15 -: Decision trees are versatile and widely applicable in many real-world scenarios. Their ability to model complex relationships in a transparent and interpretable way makes them suitable for tasks in:\n",
        "\n",
        "Customer segmentation and marketing\n",
        "\n",
        "Healthcare and medical diagnosis\n",
        "\n",
        "Financial services and credit scoring\n",
        "\n",
        "Fraud detection\n",
        "\n",
        "E-commerce and product recommendation\n",
        "\n",
        "Churn prediction and customer retention\n",
        "\n",
        "Insurance risk assessment\n",
        "\n",
        "Supply chain and inventory management\n",
        "\n",
        "Image recognition\n",
        "\n",
        "Natural language processing\n",
        "\n",
        "Manufacturing and quality control\n",
        "\n",
        "Sports analytics\n",
        "\n",
        "Decision trees provide valuable insights in these applications, and\n",
        "their integration with other algorithms (e.g., in ensemble methods like Random Forests and Gradient Boosting) can further improve accuracy and robustness.\n",
        "\n"
      ],
      "metadata": {
        "id": "ghvUC9SS0hN_"
      }
    },
    {
      "cell_type": "markdown",
      "source": [
        "**Practical Questions**\n",
        "\n"
      ],
      "metadata": {
        "id": "0LHirv9r3F73"
      }
    },
    {
      "cell_type": "code",
      "source": [
        "##question 16 :-Write a Python program to train a Decision Tree Classifier on the Iris dataset and print the model accuracy?\n",
        "\n",
        "# Import necessary libraries\n",
        "from sklearn.datasets import load_iris\n",
        "from sklearn.model_selection import train_test_split\n",
        "from sklearn.tree import DecisionTreeClassifier\n",
        "from sklearn.metrics import accuracy_score\n",
        "\n",
        "# Load the Iris dataset\n",
        "iris = load_iris()\n",
        "X = iris.data  # Features\n",
        "y = iris.target  # Target labels\n",
        "\n",
        "# Split the dataset into training and testing sets\n",
        "X_train, X_test, y_train, y_test = train_test_split(X, y, test_size=0.3, random_state=42)\n",
        "\n",
        "# Create a Decision Tree Classifier model\n",
        "dt_classifier = DecisionTreeClassifier(random_state=42)\n",
        "\n",
        "# Train the model on the training data\n",
        "dt_classifier.fit(X_train, y_train)\n",
        "\n",
        "# Make predictions on the test data\n",
        "y_pred = dt_classifier.predict(X_test)\n",
        "\n",
        "# Calculate and print the accuracy of the model\n",
        "accuracy = accuracy_score(y_test, y_pred)\n",
        "print(f\"Model Accuracy: {accuracy * 100:.2f}%\")\n"
      ],
      "metadata": {
        "colab": {
          "base_uri": "https://localhost:8080/"
        },
        "id": "AYvDZqSw3Ogk",
        "outputId": "8365a01e-924a-4047-9bb5-da5461412bb1"
      },
      "execution_count": 1,
      "outputs": [
        {
          "output_type": "stream",
          "name": "stdout",
          "text": [
            "Model Accuracy: 100.00%\n"
          ]
        }
      ]
    },
    {
      "cell_type": "code",
      "source": [
        "##Question 17 -: Write a Python program to train a Decision Tree Classifier using Gini Impurity as the criterion and print the feature importances?\n",
        "\n",
        "# Import necessary libraries\n",
        "from sklearn.datasets import load_iris\n",
        "from sklearn.model_selection import train_test_split\n",
        "from sklearn.tree import DecisionTreeClassifier\n",
        "\n",
        "# Load the Iris dataset\n",
        "iris = load_iris()\n",
        "X = iris.data  # Features\n",
        "y = iris.target  # Target labels\n",
        "\n",
        "# Split the dataset into training and testing sets\n",
        "X_train, X_test, y_train, y_test = train_test_split(X, y, test_size=0.3, random_state=42)\n",
        "\n",
        "# Create a Decision Tree Classifier model using Gini Impurity as the criterion\n",
        "dt_classifier = DecisionTreeClassifier(criterion='gini', random_state=42)\n",
        "\n",
        "# Train the model on the training data\n",
        "dt_classifier.fit(X_train, y_train)\n",
        "\n",
        "# Print the feature importances\n",
        "feature_importances = dt_classifier.feature_importances_\n",
        "\n",
        "# Print the feature importances along with their corresponding feature names\n",
        "print(\"Feature Importances:\")\n",
        "for feature, importance in zip(iris.feature_names, feature_importances):\n",
        "    print(f\"{feature}: {importance:.4f}\")\n"
      ],
      "metadata": {
        "colab": {
          "base_uri": "https://localhost:8080/"
        },
        "id": "wfK5ZvyB3f-X",
        "outputId": "33b9f760-3e43-4341-8318-add233b28de2"
      },
      "execution_count": 2,
      "outputs": [
        {
          "output_type": "stream",
          "name": "stdout",
          "text": [
            "Feature Importances:\n",
            "sepal length (cm): 0.0000\n",
            "sepal width (cm): 0.0191\n",
            "petal length (cm): 0.8933\n",
            "petal width (cm): 0.0876\n"
          ]
        }
      ]
    },
    {
      "cell_type": "code",
      "source": [
        "##Question 18 -: Write a Python program to train a Decision Tree Classifier using Entropy as the splitting criterion and print the model accuracy?\n",
        "\n",
        "# Import necessary libraries\n",
        "from sklearn.datasets import load_iris\n",
        "from sklearn.model_selection import train_test_split\n",
        "from sklearn.tree import DecisionTreeClassifier\n",
        "from sklearn.metrics import accuracy_score\n",
        "\n",
        "# Load the Iris dataset\n",
        "iris = load_iris()\n",
        "X = iris.data  # Features\n",
        "y = iris.target  # Target labels\n",
        "\n",
        "# Split the dataset into training and testing sets\n",
        "X_train, X_test, y_train, y_test = train_test_split(X, y, test_size=0.3, random_state=42)\n",
        "\n",
        "# Create a Decision Tree Classifier model using Entropy as the criterion\n",
        "dt_classifier = DecisionTreeClassifier(criterion='entropy', random_state=42)\n",
        "\n",
        "# Train the model on the training data\n",
        "dt_classifier.fit(X_train, y_train)\n",
        "\n",
        "# Make predictions on the test data\n",
        "y_pred = dt_classifier.predict(X_test)\n",
        "\n",
        "# Calculate and print the accuracy of the model\n",
        "accuracy = accuracy_score(y_test, y_pred)\n",
        "print(f\"Model Accuracy: {accuracy * 100:.2f}%\")\n"
      ],
      "metadata": {
        "colab": {
          "base_uri": "https://localhost:8080/"
        },
        "id": "hjbkHbeu8WfG",
        "outputId": "8c7b57cb-b187-474d-caee-0fac218c5402"
      },
      "execution_count": 3,
      "outputs": [
        {
          "output_type": "stream",
          "name": "stdout",
          "text": [
            "Model Accuracy: 97.78%\n"
          ]
        }
      ]
    },
    {
      "cell_type": "code",
      "source": [
        "##Question 19 -: Write a Python program to train a Decision Tree Regressor on a housing dataset and evaluate using Mean Squared Error (MSE)?\n",
        "\n",
        "# Import necessary libraries\n",
        "from sklearn.datasets import fetch_california_housing\n",
        "from sklearn.model_selection import train_test_split\n",
        "from sklearn.tree import DecisionTreeRegressor\n",
        "from sklearn.metrics import mean_squared_error\n",
        "\n",
        "# Load the California housing dataset\n",
        "housing = fetch_california_housing()\n",
        "X = housing.data  # Features\n",
        "y = housing.target  # Target variable (house values)\n",
        "\n",
        "# Split the dataset into training and testing sets (80% train, 20% test)\n",
        "X_train, X_test, y_train, y_test = train_test_split(X, y, test_size=0.2, random_state=42)\n",
        "\n",
        "# Create a Decision Tree Regressor model\n",
        "dt_regressor = DecisionTreeRegressor(random_state=42)\n",
        "\n",
        "# Train the model on the training data\n",
        "dt_regressor.fit(X_train, y_train)\n",
        "\n",
        "# Make predictions on the test data\n",
        "y_pred = dt_regressor.predict(X_test)\n",
        "\n",
        "# Calculate Mean Squared Error (MSE)\n",
        "mse = mean_squared_error(y_test, y_pred)\n",
        "\n",
        "# Print the Mean Squared Error\n",
        "print(f\"Mean Squared Error (MSE): {mse:.2f}\")\n"
      ],
      "metadata": {
        "colab": {
          "base_uri": "https://localhost:8080/"
        },
        "id": "boBg0NHa8jFN",
        "outputId": "b27f2d67-82bc-42a3-c265-dda2995ce455"
      },
      "execution_count": 4,
      "outputs": [
        {
          "output_type": "stream",
          "name": "stdout",
          "text": [
            "Mean Squared Error (MSE): 0.50\n"
          ]
        }
      ]
    },
    {
      "cell_type": "code",
      "source": [
        "##Question 20 -: Write a Python program to train a Decision Tree Classifier and visualize the tree using graphviz?\n",
        "\n",
        "# Import necessary libraries\n",
        "from sklearn.datasets import load_iris\n",
        "from sklearn.model_selection import train_test_split\n",
        "from sklearn.tree import DecisionTreeClassifier\n",
        "from sklearn import tree\n",
        "import graphviz\n",
        "\n",
        "# Load the Iris dataset\n",
        "iris = load_iris()\n",
        "X = iris.data  # Features\n",
        "y = iris.target  # Target labels\n",
        "\n",
        "# Split the dataset into training and testing sets\n",
        "X_train, X_test, y_train, y_test = train_test_split(X, y, test_size=0.3, random_state=42)\n",
        "\n",
        "# Create a Decision Tree Classifier model\n",
        "dt_classifier = DecisionTreeClassifier(random_state=42)\n",
        "\n",
        "# Train the model on the training data\n",
        "dt_classifier.fit(X_train, y_train)\n",
        "\n",
        "# Visualize the decision tree\n",
        "dot_data = tree.export_graphviz(dt_classifier, out_file=None,\n",
        "                                feature_names=iris.feature_names,\n",
        "                                class_names=iris.target_names,\n",
        "                                filled=True, rounded=True,\n",
        "                                special_characters=True)\n",
        "# Create the graph\n",
        "graph = graphviz.Source(dot_data)\n",
        "\n",
        "# Render the graph (visualize the decision tree)\n",
        "graph.view()\n"
      ],
      "metadata": {
        "colab": {
          "base_uri": "https://localhost:8080/",
          "height": 36
        },
        "id": "qK8rp1BF82eb",
        "outputId": "5c1d8a9b-01e1-43fa-95f6-6e8898992340"
      },
      "execution_count": 5,
      "outputs": [
        {
          "output_type": "execute_result",
          "data": {
            "text/plain": [
              "'Source.gv.pdf'"
            ],
            "application/vnd.google.colaboratory.intrinsic+json": {
              "type": "string"
            }
          },
          "metadata": {},
          "execution_count": 5
        }
      ]
    },
    {
      "cell_type": "code",
      "source": [
        "##Question 21 -: Write a Python program to train a Decision Tree Classifier with a maximum depth of 3 and compare its accuracy with a fully grown tree?\n",
        "\n",
        "# Import necessary libraries\n",
        "from sklearn.datasets import load_iris\n",
        "from sklearn.model_selection import train_test_split\n",
        "from sklearn.tree import DecisionTreeClassifier\n",
        "from sklearn.metrics import accuracy_score\n",
        "\n",
        "# Load the Iris dataset\n",
        "iris = load_iris()\n",
        "X = iris.data  # Features\n",
        "y = iris.target  # Target labels\n",
        "\n",
        "# Split the dataset into training and testing sets (80% train, 20% test)\n",
        "X_train, X_test, y_train, y_test = train_test_split(X, y, test_size=0.2, random_state=42)\n",
        "\n",
        "# Create a Decision Tree Classifier with max depth = 3 (pruned tree)\n",
        "dt_pruned = DecisionTreeClassifier(max_depth=3, random_state=42)\n",
        "\n",
        "# Train the pruned tree on the training data\n",
        "dt_pruned.fit(X_train, y_train)\n",
        "\n",
        "# Make predictions on the test data\n",
        "y_pred_pruned = dt_pruned.predict(X_test)\n",
        "\n",
        "# Calculate accuracy of the pruned tree\n",
        "accuracy_pruned = accuracy_score(y_test, y_pred_pruned)\n",
        "print(f\"Accuracy of pruned tree (max_depth=3): {accuracy_pruned * 100:.2f}%\")\n",
        "\n",
        "# Create a fully grown Decision Tree Classifier (no depth limit)\n",
        "dt_full = DecisionTreeClassifier(random_state=42)\n",
        "\n",
        "# Train the fully grown tree on the training data\n",
        "dt_full.fit(X_train, y_train)\n",
        "\n",
        "# Make predictions on the test data\n",
        "y_pred_full = dt_full.predict(X_test)\n",
        "\n",
        "# Calculate accuracy of the fully grown tree\n",
        "accuracy_full = accuracy_score(y_test, y_pred_full)\n",
        "print(f\"Accuracy of fully grown tree (no max_depth): {accuracy_full * 100:.2f}%\")\n"
      ],
      "metadata": {
        "colab": {
          "base_uri": "https://localhost:8080/"
        },
        "id": "FU4fz4a59FxG",
        "outputId": "ec2d435c-9bf7-4a82-d30c-7a3b610aa321"
      },
      "execution_count": 6,
      "outputs": [
        {
          "output_type": "stream",
          "name": "stdout",
          "text": [
            "Accuracy of pruned tree (max_depth=3): 100.00%\n",
            "Accuracy of fully grown tree (no max_depth): 100.00%\n"
          ]
        }
      ]
    },
    {
      "cell_type": "code",
      "source": [
        "##Question 22 -: Write a Python program to train a Decision Tree Classifier using min_samples_split=5 and compare its accuracy with a default tree?\n",
        "\n",
        "# Import necessary libraries\n",
        "from sklearn.datasets import load_iris\n",
        "from sklearn.model_selection import train_test_split\n",
        "from sklearn.tree import DecisionTreeClassifier\n",
        "from sklearn.metrics import accuracy_score\n",
        "\n",
        "# Load the Iris dataset\n",
        "iris = load_iris()\n",
        "X = iris.data  # Features\n",
        "y = iris.target  # Target labels\n",
        "\n",
        "# Split the dataset into training and testing sets (80% train, 20% test)\n",
        "X_train, X_test, y_train, y_test = train_test_split(X, y, test_size=0.2, random_state=42)\n",
        "\n",
        "# Create a Decision Tree Classifier with min_samples_split=5\n",
        "dt_min_samples_split = DecisionTreeClassifier(min_samples_split=5, random_state=42)\n",
        "\n",
        "# Train the classifier on the training data\n",
        "dt_min_samples_split.fit(X_train, y_train)\n",
        "\n",
        "# Make predictions on the test data\n",
        "y_pred_min_samples_split = dt_min_samples_split.predict(X_test)\n",
        "\n",
        "# Calculate accuracy of the classifier with min_samples_split=5\n",
        "accuracy_min_samples_split = accuracy_score(y_test, y_pred_min_samples_split)\n",
        "print(f\"Accuracy of tree with min_samples_split=5: {accuracy_min_samples_split * 100:.2f}%\")\n",
        "\n",
        "# Create a default Decision Tree Classifier (min_samples_split=2)\n",
        "dt_default = DecisionTreeClassifier(random_state=42)\n",
        "\n",
        "# Train the classifier on the training data\n",
        "dt_default.fit(X_train, y_train)\n",
        "\n",
        "# Make predictions on the test data\n",
        "y_pred_default = dt_default.predict(X_test)\n",
        "\n",
        "# Calculate accuracy of the default classifier\n",
        "accuracy_default = accuracy_score(y_test, y_pred_default)\n",
        "print(f\"Accuracy of default tree (min_samples_split=2): {accuracy_default * 100:.2f}%\")\n"
      ],
      "metadata": {
        "colab": {
          "base_uri": "https://localhost:8080/"
        },
        "id": "2DVpA52W9Ulw",
        "outputId": "305da533-4414-4e74-fb68-9ff030a9b6fc"
      },
      "execution_count": 7,
      "outputs": [
        {
          "output_type": "stream",
          "name": "stdout",
          "text": [
            "Accuracy of tree with min_samples_split=5: 100.00%\n",
            "Accuracy of default tree (min_samples_split=2): 100.00%\n"
          ]
        }
      ]
    },
    {
      "cell_type": "code",
      "source": [
        "##Question 23 -: Write a Python program to apply feature scaling before training a Decision Tree Classifier and compare its accuracy with unscaled data?\n",
        "\n",
        "# Import necessary libraries\n",
        "from sklearn.datasets import load_iris\n",
        "from sklearn.model_selection import train_test_split\n",
        "from sklearn.tree import DecisionTreeClassifier\n",
        "from sklearn.metrics import accuracy_score\n",
        "from sklearn.preprocessing import StandardScaler\n",
        "\n",
        "# Load the Iris dataset\n",
        "iris = load_iris()\n",
        "X = iris.data  # Features\n",
        "y = iris.target  # Target labels\n",
        "\n",
        "# Split the dataset into training and testing sets (80% train, 20% test)\n",
        "X_train, X_test, y_train, y_test = train_test_split(X, y, test_size=0.2, random_state=42)\n",
        "\n",
        "# Create a Decision Tree Classifier (unscaled data)\n",
        "dt_unscaled = DecisionTreeClassifier(random_state=42)\n",
        "\n",
        "# Train the classifier on the unscaled training data\n",
        "dt_unscaled.fit(X_train, y_train)\n",
        "\n",
        "# Make predictions on the test data\n",
        "y_pred_unscaled = dt_unscaled.predict(X_test)\n",
        "\n",
        "# Calculate accuracy of the classifier on unscaled data\n",
        "accuracy_unscaled = accuracy_score(y_test, y_pred_unscaled)\n",
        "print(f\"Accuracy of Decision Tree on unscaled data: {accuracy_unscaled * 100:.2f}%\")\n",
        "\n",
        "# Apply feature scaling (Standardization) using StandardScaler\n",
        "scaler = StandardScaler()\n",
        "X_train_scaled = scaler.fit_transform(X_train)\n",
        "X_test_scaled = scaler.transform(X_test)\n",
        "\n",
        "# Create a Decision Tree Classifier (scaled data)\n",
        "dt_scaled = DecisionTreeClassifier(random_state=42)\n",
        "\n",
        "# Train the classifier on the scaled training data\n",
        "dt_scaled.fit(X_train_scaled, y_train)\n",
        "\n",
        "# Make predictions on the test data\n",
        "y_pred_scaled = dt_scaled.predict(X_test_scaled)\n",
        "\n",
        "# Calculate accuracy of the classifier on scaled data\n",
        "accuracy_scaled = accuracy_score(y_test, y_pred_scaled)\n",
        "print(f\"Accuracy of Decision Tree on scaled data: {accuracy_scaled * 100:.2f}%\")\n"
      ],
      "metadata": {
        "colab": {
          "base_uri": "https://localhost:8080/"
        },
        "id": "H9CkkPg59iZT",
        "outputId": "c2cd0d7a-7440-44cb-ca51-47f76ee417a6"
      },
      "execution_count": 8,
      "outputs": [
        {
          "output_type": "stream",
          "name": "stdout",
          "text": [
            "Accuracy of Decision Tree on unscaled data: 100.00%\n",
            "Accuracy of Decision Tree on scaled data: 100.00%\n"
          ]
        }
      ]
    },
    {
      "cell_type": "code",
      "source": [
        "##Question 24 -: Write a Python program to train a Decision Tree Classifier using One-vs-Rest (OvR) strategy for multiclass classification?\n",
        "\n",
        "# Import necessary libraries\n",
        "from sklearn.datasets import load_iris\n",
        "from sklearn.model_selection import train_test_split\n",
        "from sklearn.tree import DecisionTreeClassifier\n",
        "from sklearn.multiclass import OneVsRestClassifier\n",
        "from sklearn.metrics import accuracy_score\n",
        "\n",
        "# Load the Iris dataset\n",
        "iris = load_iris()\n",
        "X = iris.data  # Features\n",
        "y = iris.target  # Target labels\n",
        "\n",
        "# Split the dataset into training and testing sets (80% train, 20% test)\n",
        "X_train, X_test, y_train, y_test = train_test_split(X, y, test_size=0.2, random_state=42)\n",
        "\n",
        "# Create a Decision Tree Classifier\n",
        "dt_classifier = DecisionTreeClassifier(random_state=42)\n",
        "\n",
        "# Apply the One-vs-Rest strategy\n",
        "ovr_classifier = OneVsRestClassifier(dt_classifier)\n",
        "\n",
        "# Train the model on the training data\n",
        "ovr_classifier.fit(X_train, y_train)\n",
        "\n",
        "# Make predictions on the test data\n",
        "y_pred = ovr_classifier.predict(X_test)\n",
        "\n",
        "# Calculate accuracy of the classifier\n",
        "accuracy = accuracy_score(y_test, y_pred)\n",
        "print(f\"Accuracy of One-vs-Rest Decision Tree Classifier: {accuracy * 100:.2f}%\")\n"
      ],
      "metadata": {
        "colab": {
          "base_uri": "https://localhost:8080/"
        },
        "id": "gtPFXrBb9u0u",
        "outputId": "790adf24-2bf0-4f3f-e8e3-b5fa3e036bed"
      },
      "execution_count": 9,
      "outputs": [
        {
          "output_type": "stream",
          "name": "stdout",
          "text": [
            "Accuracy of One-vs-Rest Decision Tree Classifier: 100.00%\n"
          ]
        }
      ]
    },
    {
      "cell_type": "code",
      "source": [
        "##Question 25 -: Write a Python program to train a Decision Tree Classifier and display the feature importance scores?\n",
        "\n",
        "# Import necessary libraries\n",
        "from sklearn.datasets import load_iris\n",
        "from sklearn.model_selection import train_test_split\n",
        "from sklearn.tree import DecisionTreeClassifier\n",
        "import pandas as pd\n",
        "\n",
        "# Load the Iris dataset\n",
        "iris = load_iris()\n",
        "X = iris.data  # Features\n",
        "y = iris.target  # Target labels\n",
        "\n",
        "# Split the dataset into training and testing sets (80% train, 20% test)\n",
        "X_train, X_test, y_train, y_test = train_test_split(X, y, test_size=0.2, random_state=42)\n",
        "\n",
        "# Create a Decision Tree Classifier\n",
        "dt_classifier = DecisionTreeClassifier(random_state=42)\n",
        "\n",
        "# Train the model on the training data\n",
        "dt_classifier.fit(X_train, y_train)\n",
        "\n",
        "# Get feature importance scores\n",
        "feature_importance = dt_classifier.feature_importances_\n",
        "\n",
        "# Display feature importance scores\n",
        "feature_names = iris.feature_names  # Get feature names from the dataset\n",
        "feature_importance_df = pd.DataFrame({\n",
        "    'Feature': feature_names,\n",
        "    'Importance': feature_importance\n",
        "})\n",
        "\n",
        "# Sort the feature importance in descending order\n",
        "feature_importance_df = feature_importance_df.sort_values(by='Importance', ascending=False)\n",
        "\n",
        "# Print the feature importance scores\n",
        "print(\"Feature Importance Scores:\")\n",
        "print(feature_importance_df)\n"
      ],
      "metadata": {
        "colab": {
          "base_uri": "https://localhost:8080/"
        },
        "id": "jL2i1CH799Tl",
        "outputId": "c6e3df66-7c07-4b26-c5b9-1a0c0e43224d"
      },
      "execution_count": 10,
      "outputs": [
        {
          "output_type": "stream",
          "name": "stdout",
          "text": [
            "Feature Importance Scores:\n",
            "             Feature  Importance\n",
            "2  petal length (cm)    0.906143\n",
            "3   petal width (cm)    0.077186\n",
            "1   sepal width (cm)    0.016670\n",
            "0  sepal length (cm)    0.000000\n"
          ]
        }
      ]
    },
    {
      "cell_type": "code",
      "source": [
        "##Question 26 -: Write a Python program to train a Decision Tree Regressor with max_depth=5 and compare its performance with an unrestricted tree?\n",
        "\n",
        "# Import necessary libraries\n",
        "from sklearn.datasets import fetch_california_housing\n",
        "from sklearn.model_selection import train_test_split\n",
        "from sklearn.tree import DecisionTreeRegressor\n",
        "from sklearn.metrics import mean_squared_error\n",
        "\n",
        "# Load the California housing dataset\n",
        "california_housing = fetch_california_housing()\n",
        "X = california_housing.data  # Features\n",
        "y = california_housing.target  # Target labels (house values)\n",
        "\n",
        "# Split the dataset into training and testing sets (80% train, 20% test)\n",
        "X_train, X_test, y_train, y_test = train_test_split(X, y, test_size=0.2, random_state=42)\n",
        "\n",
        "# Create a Decision Tree Regressor with max_depth=5 (pruned tree)\n",
        "dt_pruned = DecisionTreeRegressor(max_depth=5, random_state=42)\n",
        "\n",
        "# Train the pruned tree on the training data\n",
        "dt_pruned.fit(X_train, y_train)\n",
        "\n",
        "# Make predictions on the test data\n",
        "y_pred_pruned = dt_pruned.predict(X_test)\n",
        "\n",
        "# Calculate the Mean Squared Error of the pruned tree\n",
        "mse_pruned = mean_squared_error(y_test, y_pred_pruned)\n",
        "print(f\"Mean Squared Error of pruned tree (max_depth=5): {mse_pruned:.2f}\")\n",
        "\n",
        "# Create a fully grown Decision Tree Regressor (no max_depth)\n",
        "dt_full = DecisionTreeRegressor(random_state=42)\n",
        "\n",
        "# Train the fully grown tree on the training data\n",
        "dt_full.fit(X_train, y_train)\n",
        "\n",
        "# Make predictions on the test data\n",
        "y_pred_full = dt_full.predict(X_test)\n",
        "\n",
        "# Calculate the Mean Squared Error of the fully grown tree\n",
        "mse_full = mean_squared_error(y_test, y_pred_full)\n",
        "print(f\"Mean Squared Error of fully grown tree (no max_depth): {mse_full:.2f}\")\n"
      ],
      "metadata": {
        "colab": {
          "base_uri": "https://localhost:8080/"
        },
        "id": "WZuClw5D-HqD",
        "outputId": "402372bb-001c-4fa2-fce7-456e521622fd"
      },
      "execution_count": 11,
      "outputs": [
        {
          "output_type": "stream",
          "name": "stdout",
          "text": [
            "Mean Squared Error of pruned tree (max_depth=5): 0.52\n",
            "Mean Squared Error of fully grown tree (no max_depth): 0.50\n"
          ]
        }
      ]
    },
    {
      "cell_type": "code",
      "source": [
        "##Question 27 -: Write a Python program to train a Decision Tree Classifier, apply Cost Complexity Pruning (CCP), and visualize its effect on accuracy?\n",
        "\n",
        "# Import necessary libraries\n",
        "import matplotlib.pyplot as plt\n",
        "from sklearn.datasets import load_iris\n",
        "from sklearn.model_selection import train_test_split\n",
        "from sklearn.tree import DecisionTreeClassifier\n",
        "from sklearn.tree import plot_tree\n",
        "from sklearn.metrics import accuracy_score\n",
        "import numpy as np\n",
        "\n",
        "# Load the Iris dataset\n",
        "iris = load_iris()\n",
        "X = iris.data  # Features\n",
        "y = iris.target  # Target labels\n",
        "\n",
        "# Split the dataset into training and testing sets (80% train, 20% test)\n",
        "X_train, X_test, y_train, y_test = train_test_split(X, y, test_size=0.2, random_state=42)\n",
        "\n",
        "# Train an initial Decision Tree Classifier without pruning\n",
        "dt_classifier = DecisionTreeClassifier(random_state=42)\n",
        "dt_classifier.fit(X_train, y_train)\n",
        "\n",
        "# Make predictions and calculate accuracy for the unpruned tree\n",
        "y_pred_unpruned = dt_classifier.predict(X_test)\n",
        "accuracy_unpruned = accuracy_score(y_test, y_pred_unpruned)\n",
        "\n",
        "print(f\"Accuracy of the unpruned tree: {accuracy_unpruned * 100:.2f}%\")\n",
        "\n",
        "# Perform Cost Complexity Pruning (CCP)\n",
        "# Get the effective alphas (ccp_alpha values) and the corresponding total leaf impurity\n",
        "path = dt_classifier.cost_complexity_pruning_path(X_train, y_train)\n",
        "ccp_alphas = path.ccp_alphas\n",
        "impurities = path.impurities\n",
        "\n",
        "# Plot the relationship between ccp_alpha and total impurity\n",
        "plt.figure(figsize=(8, 6))\n",
        "plt.plot(ccp_alphas, impurities, marker='o', drawstyle=\"steps-post\")\n",
        "plt.xlabel(\"ccp_alpha\")\n",
        "plt.ylabel(\"Total Impurity of Leaves\")\n",
        "plt.title(\"Cost Complexity Pruning Path (Total Impurity vs. ccp_alpha)\")\n",
        "plt.show()\n",
        "\n",
        "# Now, we will train Decision Trees for different ccp_alpha values and compare their accuracy\n",
        "accuracies = []\n",
        "\n",
        "for ccp_alpha in ccp_alphas:\n",
        "    # Create a new Decision Tree Classifier with a given ccp_alpha value\n",
        "    dt_pruned = DecisionTreeClassifier(random_state=42, ccp_alpha=ccp_alpha)\n",
        "    dt_pruned.fit(X_train, y_train)\n",
        "\n",
        "    # Make predictions and calculate accuracy\n",
        "    y_pred_pruned = dt_pruned.predict(X_test)\n",
        "    accuracy_pruned = accuracy_score(y_test, y_pred_pruned)\n",
        "    accuracies.append(accuracy_pruned)\n",
        "\n",
        "# Plot the accuracy for each ccp_alpha value\n",
        "plt.figure(figsize=(8, 6))\n",
        "plt.plot(ccp_alphas, accuracies, marker='o', drawstyle=\"steps-post\")\n",
        "plt.xlabel(\"ccp_alpha\")\n",
        "plt.ylabel(\"Accuracy\")\n",
        "plt.title(\"Accuracy vs. ccp_alpha for Cost Complexity Pruning\")\n",
        "plt.show()\n",
        "\n",
        "# Find the best ccp_alpha value (where accuracy is highest)\n",
        "best_ccp_alpha = ccp_alphas[np.argmax(accuracies)]\n",
        "print(f\"The best ccp_alpha for pruning is: {best_ccp_alpha}\")\n"
      ],
      "metadata": {
        "colab": {
          "base_uri": "https://localhost:8080/",
          "height": 1000
        },
        "id": "yrd5B4Gq-UEk",
        "outputId": "04161b9e-59d9-48bc-cbef-c9a3802bf239"
      },
      "execution_count": 12,
      "outputs": [
        {
          "output_type": "stream",
          "name": "stdout",
          "text": [
            "Accuracy of the unpruned tree: 100.00%\n"
          ]
        },
        {
          "output_type": "display_data",
          "data": {
            "text/plain": [
              "<Figure size 800x600 with 1 Axes>"
            ],
            "image/png": "[encoded data removed]"
          },
          "metadata": {}
        },
        {
          "output_type": "display_data",
          "data": {
            "text/plain": [
              "<Figure size 800x600 with 1 Axes>"
            ],
            "image/png": "[encoded data removed]"
          },
          "metadata": {}
        },
        {
          "output_type": "stream",
          "name": "stdout",
          "text": [
            "The best ccp_alpha for pruning is: 0.0\n"
          ]
        }
      ]
    },
    {
      "cell_type": "code",
      "source": [
        "##Question 28 -: Write a Python program to train a Decision Tree Classifier and evaluate its performance using Precision, Recall, and F1-Score?\n",
        "\n",
        "# Import necessary libraries\n",
        "from sklearn.datasets import load_iris\n",
        "from sklearn.model_selection import train_test_split\n",
        "from sklearn.tree import DecisionTreeClassifier\n",
        "from sklearn.metrics import precision_score, recall_score, f1_score, classification_report\n",
        "\n",
        "# Load the Iris dataset\n",
        "iris = load_iris()\n",
        "X = iris.data  # Features\n",
        "y = iris.target  # Target labels\n",
        "\n",
        "# Split the dataset into training and testing sets (80% train, 20% test)\n",
        "X_train, X_test, y_train, y_test = train_test_split(X, y, test_size=0.2, random_state=42)\n",
        "\n",
        "# Create and train a Decision Tree Classifier\n",
        "dt_classifier = DecisionTreeClassifier(random_state=42)\n",
        "dt_classifier.fit(X_train, y_train)\n",
        "\n",
        "# Make predictions on the test set\n",
        "y_pred = dt_classifier.predict(X_test)\n",
        "\n",
        "# Calculate Precision, Recall, and F1-Score\n",
        "precision = precision_score(y_test, y_pred, average='weighted')\n",
        "recall = recall_score(y_test, y_pred, average='weighted')\n",
        "f1 = f1_score(y_test, y_pred, average='weighted')\n",
        "\n",
        "# Print the evaluation metrics\n",
        "print(f\"Precision: {precision:.2f}\")\n",
        "print(f\"Recall: {recall:.2f}\")\n",
        "print(f\"F1-Score: {f1:.2f}\")\n",
        "\n",
        "# Display detailed classification report (includes precision, recall, f1-score for each class)\n",
        "print(\"\\nClassification Report:\")\n",
        "print(classification_report(y_test, y_pred))\n"
      ],
      "metadata": {
        "colab": {
          "base_uri": "https://localhost:8080/"
        },
        "id": "XxQ29hGq-l7e",
        "outputId": "35d0ece1-8d5d-44aa-de52-81b1c98fb2dd"
      },
      "execution_count": 13,
      "outputs": [
        {
          "output_type": "stream",
          "name": "stdout",
          "text": [
            "Precision: 1.00\n",
            "Recall: 1.00\n",
            "F1-Score: 1.00\n",
            "\n",
            "Classification Report:\n",
            "              precision    recall  f1-score   support\n",
            "\n",
            "           0       1.00      1.00      1.00        10\n",
            "           1       1.00      1.00      1.00         9\n",
            "           2       1.00      1.00      1.00        11\n",
            "\n",
            "    accuracy                           1.00        30\n",
            "   macro avg       1.00      1.00      1.00        30\n",
            "weighted avg       1.00      1.00      1.00        30\n",
            "\n"
          ]
        }
      ]
    },
    {
      "cell_type": "code",
      "source": [
        "##Question 29 -: Write a Python program to train a Decision Tree Classifier and visualize the confusion matrix using seaborn?\n",
        "\n",
        "# Import necessary libraries\n",
        "import seaborn as sns\n",
        "import matplotlib.pyplot as plt\n",
        "from sklearn.datasets import load_iris\n",
        "from sklearn.model_selection import train_test_split\n",
        "from sklearn.tree import DecisionTreeClassifier\n",
        "from sklearn.metrics import confusion_matrix\n",
        "\n",
        "# Load the Iris dataset\n",
        "iris = load_iris()\n",
        "X = iris.data  # Features\n",
        "y = iris.target  # Target labels\n",
        "\n",
        "# Split the dataset into training and testing sets (80% train, 20% test)\n",
        "X_train, X_test, y_train, y_test = train_test_split(X, y, test_size=0.2, random_state=42)\n",
        "\n",
        "# Create and train a Decision Tree Classifier\n",
        "dt_classifier = DecisionTreeClassifier(random_state=42)\n",
        "dt_classifier.fit(X_train, y_train)\n",
        "\n",
        "# Make predictions on the test set\n",
        "y_pred = dt_classifier.predict(X_test)\n",
        "\n",
        "# Generate the confusion matrix\n",
        "cm = confusion_matrix(y_test, y_pred)\n",
        "\n",
        "# Visualize the confusion matrix using seaborn\n",
        "plt.figure(figsize=(8, 6))\n",
        "sns.heatmap(cm, annot=True, fmt='d', cmap='Blues', xticklabels=iris.target_names, yticklabels=iris.target_names)\n",
        "plt.title(\"Confusion Matrix for Decision Tree Classifier\")\n",
        "plt.xlabel(\"Predicted Labels\")\n",
        "plt.ylabel(\"True Labels\")\n",
        "plt.show()\n"
      ],
      "metadata": {
        "colab": {
          "base_uri": "https://localhost:8080/",
          "height": 564
        },
        "id": "XrvYANt_-wx7",
        "outputId": "4ed1a1ba-4c6c-4f7f-8fca-55fe628af649"
      },
      "execution_count": 14,
      "outputs": [
        {
          "output_type": "display_data",
          "data": {
            "text/plain": [
              "<Figure size 800x600 with 2 Axes>"
            ],
            "image/png": "[encoded data removed]"
          },
          "metadata": {}
        }
      ]
    },
    {
      "cell_type": "code",
      "source": [
        "##Question 30 -: Write a Python program to train a Decision Tree Classifier and use GridSearchCV to find the optimal values for max_depth and min_samples_split?\n",
        "\n",
        "# Import necessary libraries\n",
        "from sklearn.datasets import load_iris\n",
        "from sklearn.model_selection import train_test_split, GridSearchCV\n",
        "from sklearn.tree import DecisionTreeClassifier\n",
        "from sklearn.metrics import accuracy_score\n",
        "\n",
        "# Load the Iris dataset\n",
        "iris = load_iris()\n",
        "X = iris.data  # Features\n",
        "y = iris.target  # Target labels\n",
        "\n",
        "# Split the dataset into training and testing sets (80% train, 20% test)\n",
        "X_train, X_test, y_train, y_test = train_test_split(X, y, test_size=0.2, random_state=42)\n",
        "\n",
        "# Create a Decision Tree Classifier\n",
        "dt_classifier = DecisionTreeClassifier(random_state=42)\n",
        "\n",
        "# Define the parameter grid for GridSearchCV\n",
        "param_grid = {\n",
        "    'max_depth': [3, 5, 10, None],  # Test different depths\n",
        "    'min_samples_split': [2, 5, 10]  # Test different minimum samples to split\n",
        "}\n",
        "\n",
        "# Initialize GridSearchCV with the Decision Tree and parameter grid\n",
        "grid_search = GridSearchCV(estimator=dt_classifier, param_grid=param_grid, cv=5, scoring='accuracy')\n",
        "\n",
        "# Perform the grid search\n",
        "grid_search.fit(X_train, y_train)\n",
        "\n",
        "# Print the best parameters found by GridSearchCV\n",
        "print(f\"Best parameters found: {grid_search.best_params_}\")\n",
        "\n",
        "# Get the best model with optimal parameters\n",
        "best_model = grid_search.best_estimator_\n",
        "\n",
        "# Make predictions on the test set using the best model\n",
        "y_pred = best_model.predict(X_test)\n",
        "\n",
        "# Calculate and print the accuracy of the best model on the test set\n",
        "accuracy = accuracy_score(y_test, y_pred)\n",
        "print(f\"Accuracy of the best model: {accuracy * 100:.2f}%\")\n"
      ],
      "metadata": {
        "colab": {
          "base_uri": "https://localhost:8080/"
        },
        "id": "IVWd3fZi_DC8",
        "outputId": "a3510445-b7d7-4a1f-a081-c926b28a6b04"
      },
      "execution_count": 15,
      "outputs": [
        {
          "output_type": "stream",
          "name": "stdout",
          "text": [
            "Best parameters found: {'max_depth': 10, 'min_samples_split': 2}\n",
            "Accuracy of the best model: 100.00%\n"
          ]
        }
      ]
    },
    {
      "cell_type": "code",
      "source": [],
      "metadata": {
        "id": "hzTyHycE_Ooq"
      },
      "execution_count": null,
      "outputs": []
    }
  ]
}